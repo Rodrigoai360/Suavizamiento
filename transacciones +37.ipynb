{
 "cells": [
  {
   "cell_type": "code",
   "execution_count": 1,
   "metadata": {},
   "outputs": [],
   "source": [
    "import pandas as pd\n",
    "import numpy as np"
   ]
  },
  {
   "cell_type": "code",
   "execution_count": 2,
   "metadata": {},
   "outputs": [],
   "source": [
    "trans = pd.read_csv('num_trans_cp.csv')"
   ]
  },
  {
   "cell_type": "code",
   "execution_count": 3,
   "metadata": {
    "scrolled": true
   },
   "outputs": [
    {
     "data": {
      "text/html": [
       "<div>\n",
       "<style scoped>\n",
       "    .dataframe tbody tr th:only-of-type {\n",
       "        vertical-align: middle;\n",
       "    }\n",
       "\n",
       "    .dataframe tbody tr th {\n",
       "        vertical-align: top;\n",
       "    }\n",
       "\n",
       "    .dataframe thead th {\n",
       "        text-align: right;\n",
       "    }\n",
       "</style>\n",
       "<table border=\"1\" class=\"dataframe\">\n",
       "  <thead>\n",
       "    <tr style=\"text-align: right;\">\n",
       "      <th></th>\n",
       "      <th>cp</th>\n",
       "      <th>y2015</th>\n",
       "      <th>y2016</th>\n",
       "      <th>y2017</th>\n",
       "      <th>y2018</th>\n",
       "      <th>y2019</th>\n",
       "      <th>y2020</th>\n",
       "      <th>prom_trans</th>\n",
       "    </tr>\n",
       "  </thead>\n",
       "  <tbody>\n",
       "    <tr>\n",
       "      <th>count</th>\n",
       "      <td>1137.000000</td>\n",
       "      <td>1137.000000</td>\n",
       "      <td>1137.000000</td>\n",
       "      <td>1137.000000</td>\n",
       "      <td>1137.000000</td>\n",
       "      <td>1137.000000</td>\n",
       "      <td>1137.000000</td>\n",
       "      <td>1137.000000</td>\n",
       "    </tr>\n",
       "    <tr>\n",
       "      <th>mean</th>\n",
       "      <td>8573.206684</td>\n",
       "      <td>17.197010</td>\n",
       "      <td>26.679859</td>\n",
       "      <td>24.692172</td>\n",
       "      <td>15.202287</td>\n",
       "      <td>21.613896</td>\n",
       "      <td>12.569041</td>\n",
       "      <td>14.883026</td>\n",
       "    </tr>\n",
       "    <tr>\n",
       "      <th>std</th>\n",
       "      <td>4718.018330</td>\n",
       "      <td>40.075697</td>\n",
       "      <td>63.925266</td>\n",
       "      <td>61.968772</td>\n",
       "      <td>40.332088</td>\n",
       "      <td>53.340303</td>\n",
       "      <td>28.525483</td>\n",
       "      <td>32.018521</td>\n",
       "    </tr>\n",
       "    <tr>\n",
       "      <th>min</th>\n",
       "      <td>1000.000000</td>\n",
       "      <td>0.000000</td>\n",
       "      <td>0.000000</td>\n",
       "      <td>0.000000</td>\n",
       "      <td>0.000000</td>\n",
       "      <td>0.000000</td>\n",
       "      <td>0.000000</td>\n",
       "      <td>0.000000</td>\n",
       "    </tr>\n",
       "    <tr>\n",
       "      <th>25%</th>\n",
       "      <td>4489.000000</td>\n",
       "      <td>1.000000</td>\n",
       "      <td>2.000000</td>\n",
       "      <td>1.000000</td>\n",
       "      <td>0.000000</td>\n",
       "      <td>1.000000</td>\n",
       "      <td>1.000000</td>\n",
       "      <td>1.000000</td>\n",
       "    </tr>\n",
       "    <tr>\n",
       "      <th>50%</th>\n",
       "      <td>8320.000000</td>\n",
       "      <td>4.000000</td>\n",
       "      <td>7.000000</td>\n",
       "      <td>5.000000</td>\n",
       "      <td>3.000000</td>\n",
       "      <td>5.000000</td>\n",
       "      <td>4.000000</td>\n",
       "      <td>4.500000</td>\n",
       "    </tr>\n",
       "    <tr>\n",
       "      <th>75%</th>\n",
       "      <td>13180.000000</td>\n",
       "      <td>15.000000</td>\n",
       "      <td>25.000000</td>\n",
       "      <td>22.000000</td>\n",
       "      <td>14.000000</td>\n",
       "      <td>19.000000</td>\n",
       "      <td>13.000000</td>\n",
       "      <td>14.500000</td>\n",
       "    </tr>\n",
       "    <tr>\n",
       "      <th>max</th>\n",
       "      <td>16900.000000</td>\n",
       "      <td>509.000000</td>\n",
       "      <td>946.000000</td>\n",
       "      <td>939.000000</td>\n",
       "      <td>661.000000</td>\n",
       "      <td>695.000000</td>\n",
       "      <td>426.000000</td>\n",
       "      <td>399.000000</td>\n",
       "    </tr>\n",
       "  </tbody>\n",
       "</table>\n",
       "</div>"
      ],
      "text/plain": [
       "                 cp        y2015        y2016        y2017        y2018  \\\n",
       "count   1137.000000  1137.000000  1137.000000  1137.000000  1137.000000   \n",
       "mean    8573.206684    17.197010    26.679859    24.692172    15.202287   \n",
       "std     4718.018330    40.075697    63.925266    61.968772    40.332088   \n",
       "min     1000.000000     0.000000     0.000000     0.000000     0.000000   \n",
       "25%     4489.000000     1.000000     2.000000     1.000000     0.000000   \n",
       "50%     8320.000000     4.000000     7.000000     5.000000     3.000000   \n",
       "75%    13180.000000    15.000000    25.000000    22.000000    14.000000   \n",
       "max    16900.000000   509.000000   946.000000   939.000000   661.000000   \n",
       "\n",
       "             y2019        y2020   prom_trans  \n",
       "count  1137.000000  1137.000000  1137.000000  \n",
       "mean     21.613896    12.569041    14.883026  \n",
       "std      53.340303    28.525483    32.018521  \n",
       "min       0.000000     0.000000     0.000000  \n",
       "25%       1.000000     1.000000     1.000000  \n",
       "50%       5.000000     4.000000     4.500000  \n",
       "75%      19.000000    13.000000    14.500000  \n",
       "max     695.000000   426.000000   399.000000  "
      ]
     },
     "execution_count": 3,
     "metadata": {},
     "output_type": "execute_result"
    }
   ],
   "source": [
    "trans.describe()"
   ]
  },
  {
   "cell_type": "code",
   "execution_count": 38,
   "metadata": {},
   "outputs": [],
   "source": [
    "#trans.prom_trans.value_counts().sort_values().tail(20)\n",
    "#trans.prom_trans.sort_values().value_counts().head(50)"
   ]
  },
  {
   "cell_type": "code",
   "execution_count": 5,
   "metadata": {},
   "outputs": [
    {
     "data": {
      "text/plain": [
       "0.80    19.0\n",
       "0.85    26.0\n",
       "0.90    37.5\n",
       "0.95    61.5\n",
       "Name: prom_trans, dtype: float64"
      ]
     },
     "execution_count": 5,
     "metadata": {},
     "output_type": "execute_result"
    }
   ],
   "source": [
    "trans.prom_trans.quantile([.8, .85, .9, .95]) "
   ]
  },
  {
   "cell_type": "code",
   "execution_count": 7,
   "metadata": {},
   "outputs": [],
   "source": [
    "trans[\"transacciones\"] = \"\"\n",
    "\n",
    "i = 0\n",
    "\n",
    "while i < len(trans):\n",
    "    \n",
    "    if trans.prom_trans[i] >= 37:\n",
    "        trans.at[i, 'transacciones'] = \"clave\"\n",
    "    i += 1"
   ]
  },
  {
   "cell_type": "code",
   "execution_count": 8,
   "metadata": {},
   "outputs": [],
   "source": [
    "imp = trans[['mun', 'cp', 'transacciones']].copy()\n",
    "imp['cp'] = imp['cp'].astype('str')"
   ]
  },
  {
   "cell_type": "code",
   "execution_count": 9,
   "metadata": {},
   "outputs": [],
   "source": [
    "imp[\"cp_bien\"] = \"\"\n",
    "\n",
    "i = 0\n",
    "\n",
    "while i < len(imp):\n",
    "    \n",
    "    if len(imp.cp[i]) == 4:\n",
    "        imp.at[i, 'cp_bien'] = \"0\"+ imp.cp[i]\n",
    "    else:\n",
    "        imp.at[i, 'cp_bien'] = imp.at[i, 'cp']\n",
    "    i += 1"
   ]
  },
  {
   "cell_type": "code",
   "execution_count": 10,
   "metadata": {},
   "outputs": [],
   "source": [
    "imp.cp = imp.cp_bien\n",
    "imp.drop(\"cp_bien\", axis = 1, inplace=True)"
   ]
  },
  {
   "cell_type": "code",
   "execution_count": 26,
   "metadata": {},
   "outputs": [
    {
     "data": {
      "text/plain": [
       "         1017\n",
       "clave     120\n",
       "Name: transacciones, dtype: int64"
      ]
     },
     "execution_count": 26,
     "metadata": {},
     "output_type": "execute_result"
    }
   ],
   "source": [
    "imp.transacciones.value_counts()"
   ]
  },
  {
   "cell_type": "code",
   "execution_count": 12,
   "metadata": {},
   "outputs": [],
   "source": [
    "precios = pd.read_csv('precios.csv')"
   ]
  },
  {
   "cell_type": "code",
   "execution_count": 13,
   "metadata": {},
   "outputs": [],
   "source": [
    "precios['cp'] = precios['cp'].astype('str')"
   ]
  },
  {
   "cell_type": "code",
   "execution_count": 14,
   "metadata": {},
   "outputs": [],
   "source": [
    "precios[\"cp_bien\"] = \"\"\n",
    "\n",
    "i = 0\n",
    "\n",
    "while i < len(precios):\n",
    "    \n",
    "    if len(precios.cp[i]) == 4:\n",
    "        precios.at[i, 'cp_bien'] = \"0\"+ precios.cp[i]\n",
    "    else:\n",
    "        precios.at[i, 'cp_bien'] = precios.at[i, 'cp']\n",
    "    i += 1"
   ]
  },
  {
   "cell_type": "code",
   "execution_count": 15,
   "metadata": {},
   "outputs": [],
   "source": [
    "precios.cp = precios.cp_bien\n",
    "precios.drop(\"cp_bien\", axis = 1, inplace=True)"
   ]
  },
  {
   "cell_type": "code",
   "execution_count": 16,
   "metadata": {},
   "outputs": [
    {
     "data": {
      "text/html": [
       "<div>\n",
       "<style scoped>\n",
       "    .dataframe tbody tr th:only-of-type {\n",
       "        vertical-align: middle;\n",
       "    }\n",
       "\n",
       "    .dataframe tbody tr th {\n",
       "        vertical-align: top;\n",
       "    }\n",
       "\n",
       "    .dataframe thead th {\n",
       "        text-align: right;\n",
       "    }\n",
       "</style>\n",
       "<table border=\"1\" class=\"dataframe\">\n",
       "  <thead>\n",
       "    <tr style=\"text-align: right;\">\n",
       "      <th></th>\n",
       "      <th>mun</th>\n",
       "      <th>cp</th>\n",
       "      <th>y2015</th>\n",
       "      <th>y2016</th>\n",
       "      <th>y2017</th>\n",
       "      <th>y2018</th>\n",
       "      <th>y2019</th>\n",
       "      <th>y2020</th>\n",
       "    </tr>\n",
       "  </thead>\n",
       "  <tbody>\n",
       "    <tr>\n",
       "      <th>0</th>\n",
       "      <td>Alvaro Obregon</td>\n",
       "      <td>01000</td>\n",
       "      <td>29120.63636</td>\n",
       "      <td>36815.07143</td>\n",
       "      <td>52709.16667</td>\n",
       "      <td>47903.363840</td>\n",
       "      <td>42332.56201</td>\n",
       "      <td>51667.285690</td>\n",
       "    </tr>\n",
       "    <tr>\n",
       "      <th>1</th>\n",
       "      <td>Alvaro Obregon</td>\n",
       "      <td>01010</td>\n",
       "      <td>35824.13333</td>\n",
       "      <td>36854.18182</td>\n",
       "      <td>40023.83721</td>\n",
       "      <td>42888.308840</td>\n",
       "      <td>57513.65635</td>\n",
       "      <td>52772.886480</td>\n",
       "    </tr>\n",
       "    <tr>\n",
       "      <th>2</th>\n",
       "      <td>Alvaro Obregon</td>\n",
       "      <td>01020</td>\n",
       "      <td>31883.84211</td>\n",
       "      <td>38663.14286</td>\n",
       "      <td>45527.60377</td>\n",
       "      <td>48214.751400</td>\n",
       "      <td>56365.94590</td>\n",
       "      <td>50693.921220</td>\n",
       "    </tr>\n",
       "    <tr>\n",
       "      <th>3</th>\n",
       "      <td>Alvaro Obregon</td>\n",
       "      <td>01030</td>\n",
       "      <td>29951.22222</td>\n",
       "      <td>32907.59649</td>\n",
       "      <td>43514.37209</td>\n",
       "      <td>44123.288690</td>\n",
       "      <td>47782.46945</td>\n",
       "      <td>40339.978790</td>\n",
       "    </tr>\n",
       "    <tr>\n",
       "      <th>4</th>\n",
       "      <td>Alvaro Obregon</td>\n",
       "      <td>01040</td>\n",
       "      <td>47150.00000</td>\n",
       "      <td>46395.00000</td>\n",
       "      <td>43783.50000</td>\n",
       "      <td>45716.676600</td>\n",
       "      <td>57398.79031</td>\n",
       "      <td>89876.285720</td>\n",
       "    </tr>\n",
       "    <tr>\n",
       "      <th>...</th>\n",
       "      <td>...</td>\n",
       "      <td>...</td>\n",
       "      <td>...</td>\n",
       "      <td>...</td>\n",
       "      <td>...</td>\n",
       "      <td>...</td>\n",
       "      <td>...</td>\n",
       "      <td>...</td>\n",
       "    </tr>\n",
       "    <tr>\n",
       "      <th>656</th>\n",
       "      <td>Xochimilco</td>\n",
       "      <td>16400</td>\n",
       "      <td>14240.25000</td>\n",
       "      <td>14919.00000</td>\n",
       "      <td>14860.50000</td>\n",
       "      <td>17520.970950</td>\n",
       "      <td>18727.26771</td>\n",
       "      <td>17932.533310</td>\n",
       "    </tr>\n",
       "    <tr>\n",
       "      <th>657</th>\n",
       "      <td>Xochimilco</td>\n",
       "      <td>16500</td>\n",
       "      <td>11465.00000</td>\n",
       "      <td>14838.66667</td>\n",
       "      <td>8118.00000</td>\n",
       "      <td>16508.037520</td>\n",
       "      <td>16018.84644</td>\n",
       "      <td>15257.089140</td>\n",
       "    </tr>\n",
       "    <tr>\n",
       "      <th>658</th>\n",
       "      <td>Xochimilco</td>\n",
       "      <td>16770</td>\n",
       "      <td>8120.00000</td>\n",
       "      <td>8560.00000</td>\n",
       "      <td>10014.66667</td>\n",
       "      <td>9927.841738</td>\n",
       "      <td>13849.33791</td>\n",
       "      <td>7021.428571</td>\n",
       "    </tr>\n",
       "    <tr>\n",
       "      <th>659</th>\n",
       "      <td>Xochimilco</td>\n",
       "      <td>16780</td>\n",
       "      <td>14491.00000</td>\n",
       "      <td>13038.00000</td>\n",
       "      <td>18999.50000</td>\n",
       "      <td>11704.340880</td>\n",
       "      <td>13369.54064</td>\n",
       "      <td>9506.603958</td>\n",
       "    </tr>\n",
       "    <tr>\n",
       "      <th>660</th>\n",
       "      <td>Xochimilco</td>\n",
       "      <td>16797</td>\n",
       "      <td>12649.40000</td>\n",
       "      <td>13444.60000</td>\n",
       "      <td>14650.90909</td>\n",
       "      <td>14854.579880</td>\n",
       "      <td>16036.31740</td>\n",
       "      <td>16191.744450</td>\n",
       "    </tr>\n",
       "  </tbody>\n",
       "</table>\n",
       "<p>661 rows × 8 columns</p>\n",
       "</div>"
      ],
      "text/plain": [
       "                mun     cp        y2015        y2016        y2017  \\\n",
       "0    Alvaro Obregon  01000  29120.63636  36815.07143  52709.16667   \n",
       "1    Alvaro Obregon  01010  35824.13333  36854.18182  40023.83721   \n",
       "2    Alvaro Obregon  01020  31883.84211  38663.14286  45527.60377   \n",
       "3    Alvaro Obregon  01030  29951.22222  32907.59649  43514.37209   \n",
       "4    Alvaro Obregon  01040  47150.00000  46395.00000  43783.50000   \n",
       "..              ...    ...          ...          ...          ...   \n",
       "656      Xochimilco  16400  14240.25000  14919.00000  14860.50000   \n",
       "657      Xochimilco  16500  11465.00000  14838.66667   8118.00000   \n",
       "658      Xochimilco  16770   8120.00000   8560.00000  10014.66667   \n",
       "659      Xochimilco  16780  14491.00000  13038.00000  18999.50000   \n",
       "660      Xochimilco  16797  12649.40000  13444.60000  14650.90909   \n",
       "\n",
       "            y2018        y2019         y2020  \n",
       "0    47903.363840  42332.56201  51667.285690  \n",
       "1    42888.308840  57513.65635  52772.886480  \n",
       "2    48214.751400  56365.94590  50693.921220  \n",
       "3    44123.288690  47782.46945  40339.978790  \n",
       "4    45716.676600  57398.79031  89876.285720  \n",
       "..            ...          ...           ...  \n",
       "656  17520.970950  18727.26771  17932.533310  \n",
       "657  16508.037520  16018.84644  15257.089140  \n",
       "658   9927.841738  13849.33791   7021.428571  \n",
       "659  11704.340880  13369.54064   9506.603958  \n",
       "660  14854.579880  16036.31740  16191.744450  \n",
       "\n",
       "[661 rows x 8 columns]"
      ]
     },
     "execution_count": 16,
     "metadata": {},
     "output_type": "execute_result"
    }
   ],
   "source": [
    "precios"
   ]
  },
  {
   "cell_type": "code",
   "execution_count": 17,
   "metadata": {},
   "outputs": [],
   "source": [
    "precios['cp_3'] = precios['cp'].str[:3]\n",
    "precios = precios[['mun', 'cp','cp_3', 'y2015', 'y2016', 'y2017', 'y2018', 'y2019', 'y2020']]"
   ]
  },
  {
   "cell_type": "code",
   "execution_count": 18,
   "metadata": {},
   "outputs": [],
   "source": [
    "precios_cp = pd.merge(precios, imp,  how='right', left_on=['mun','cp'], right_on = ['mun','cp'])\n",
    "# averiguar por con how en izquierda no sale lo que quiero"
   ]
  },
  {
   "cell_type": "code",
   "execution_count": 19,
   "metadata": {},
   "outputs": [],
   "source": [
    "precios = precios_cp.copy()"
   ]
  },
  {
   "cell_type": "code",
   "execution_count": 20,
   "metadata": {},
   "outputs": [],
   "source": [
    "precios[\"edo\"] = \"\"\n",
    "\n",
    "i = 0\n",
    "\n",
    "while i < len(precios):\n",
    "        if precios.y2020[i] > 0 and ( np.isnan(precios.y2019[i]) & np.isnan(precios.y2018[i]) & np.isnan(precios.y2017[i]) & np.isnan(precios.y2016[i]) & np.isnan(precios.y2015[i]) ):\n",
    "            precios.at[i, \"edo\"] = \"bien\"\n",
    "        elif precios.y2020[i] > 0 and precios.y2019[i] > 0  and (np.isnan(precios.y2018[i]) & np.isnan(precios.y2017[i]) & np.isnan(precios.y2016[i]) & np.isnan(precios.y2015[i])):\n",
    "            precios.at[i, \"edo\"] = \"bien\"\n",
    "        elif precios.y2020[i] > 0 and (precios.y2019[i] > precios.y2018[i])  and (np.isnan(precios.y2017[i]) & np.isnan(precios.y2016[i]) & np.isnan(precios.y2015[i])):\n",
    "            precios.at[i, \"edo\"] = \"bien\"\n",
    "        elif precios.y2020[i] > 0 and (precios.y2019[i] > precios.y2018[i] > precios.y2017[i]) and (np.isnan(precios.y2016[i]) & np.isnan(precios.y2015[i])):\n",
    "            precios.at[i, \"edo\"] = \"bien\"\n",
    "        elif precios.y2020[i] > 0 and (precios.y2019[i] > precios.y2018[i] > precios.y2017[i] > precios.y2016[i]) and (np.isnan(precios.y2015[i])):\n",
    "            precios.at[i, \"edo\"] = \"bien\"\n",
    "        elif precios.y2020[i] > 0 and (precios.y2019[i] > precios.y2018[i] > precios.y2017[i] > precios.y2016[i] > precios.y2015[i]):\n",
    "            precios.at[i, \"edo\"] = \"bien\"\n",
    "        else:\n",
    "            precios.at[i, \"edo\"] = \"mal\"\n",
    "        i += 1"
   ]
  },
  {
   "cell_type": "code",
   "execution_count": 27,
   "metadata": {},
   "outputs": [
    {
     "data": {
      "text/html": [
       "<div>\n",
       "<style scoped>\n",
       "    .dataframe tbody tr th:only-of-type {\n",
       "        vertical-align: middle;\n",
       "    }\n",
       "\n",
       "    .dataframe tbody tr th {\n",
       "        vertical-align: top;\n",
       "    }\n",
       "\n",
       "    .dataframe thead th {\n",
       "        text-align: right;\n",
       "    }\n",
       "</style>\n",
       "<table border=\"1\" class=\"dataframe\">\n",
       "  <thead>\n",
       "    <tr style=\"text-align: right;\">\n",
       "      <th></th>\n",
       "      <th>mun</th>\n",
       "      <th>cp</th>\n",
       "      <th>cp_3</th>\n",
       "      <th>y2015</th>\n",
       "      <th>y2016</th>\n",
       "      <th>y2017</th>\n",
       "      <th>y2018</th>\n",
       "      <th>y2019</th>\n",
       "      <th>y2020</th>\n",
       "      <th>transacciones</th>\n",
       "      <th>edo</th>\n",
       "    </tr>\n",
       "  </thead>\n",
       "  <tbody>\n",
       "    <tr>\n",
       "      <th>0</th>\n",
       "      <td>Azcapotzalco</td>\n",
       "      <td>02000</td>\n",
       "      <td>020</td>\n",
       "      <td>20717.25000</td>\n",
       "      <td>18982.20000</td>\n",
       "      <td>28172.94667</td>\n",
       "      <td>23633.25290</td>\n",
       "      <td>29057.40561</td>\n",
       "      <td>29388.25813</td>\n",
       "      <td></td>\n",
       "      <td>mal</td>\n",
       "    </tr>\n",
       "    <tr>\n",
       "      <th>1</th>\n",
       "      <td>Azcapotzalco</td>\n",
       "      <td>02010</td>\n",
       "      <td>020</td>\n",
       "      <td>16489.00000</td>\n",
       "      <td>18616.20000</td>\n",
       "      <td>17631.57143</td>\n",
       "      <td>24408.74712</td>\n",
       "      <td>20475.08322</td>\n",
       "      <td>19812.04813</td>\n",
       "      <td></td>\n",
       "      <td>mal</td>\n",
       "    </tr>\n",
       "    <tr>\n",
       "      <th>2</th>\n",
       "      <td>Azcapotzalco</td>\n",
       "      <td>02020</td>\n",
       "      <td>020</td>\n",
       "      <td>20751.55738</td>\n",
       "      <td>26029.50549</td>\n",
       "      <td>27386.83158</td>\n",
       "      <td>27478.50663</td>\n",
       "      <td>27226.77011</td>\n",
       "      <td>27047.71210</td>\n",
       "      <td>clave</td>\n",
       "      <td>mal</td>\n",
       "    </tr>\n",
       "    <tr>\n",
       "      <th>3</th>\n",
       "      <td>Azcapotzalco</td>\n",
       "      <td>02040</td>\n",
       "      <td>020</td>\n",
       "      <td>23732.31250</td>\n",
       "      <td>17424.00000</td>\n",
       "      <td>18574.00000</td>\n",
       "      <td>24416.08283</td>\n",
       "      <td>24688.00911</td>\n",
       "      <td>20947.81822</td>\n",
       "      <td></td>\n",
       "      <td>mal</td>\n",
       "    </tr>\n",
       "    <tr>\n",
       "      <th>4</th>\n",
       "      <td>Azcapotzalco</td>\n",
       "      <td>02050</td>\n",
       "      <td>020</td>\n",
       "      <td>17924.56667</td>\n",
       "      <td>15809.82353</td>\n",
       "      <td>17860.42857</td>\n",
       "      <td>21614.85344</td>\n",
       "      <td>20048.33006</td>\n",
       "      <td>21977.56796</td>\n",
       "      <td></td>\n",
       "      <td>mal</td>\n",
       "    </tr>\n",
       "  </tbody>\n",
       "</table>\n",
       "</div>"
      ],
      "text/plain": [
       "            mun     cp cp_3        y2015        y2016        y2017  \\\n",
       "0  Azcapotzalco  02000  020  20717.25000  18982.20000  28172.94667   \n",
       "1  Azcapotzalco  02010  020  16489.00000  18616.20000  17631.57143   \n",
       "2  Azcapotzalco  02020  020  20751.55738  26029.50549  27386.83158   \n",
       "3  Azcapotzalco  02040  020  23732.31250  17424.00000  18574.00000   \n",
       "4  Azcapotzalco  02050  020  17924.56667  15809.82353  17860.42857   \n",
       "\n",
       "         y2018        y2019        y2020 transacciones  edo  \n",
       "0  23633.25290  29057.40561  29388.25813                mal  \n",
       "1  24408.74712  20475.08322  19812.04813                mal  \n",
       "2  27478.50663  27226.77011  27047.71210         clave  mal  \n",
       "3  24416.08283  24688.00911  20947.81822                mal  \n",
       "4  21614.85344  20048.33006  21977.56796                mal  "
      ]
     },
     "execution_count": 27,
     "metadata": {},
     "output_type": "execute_result"
    }
   ],
   "source": [
    "precios.head()"
   ]
  },
  {
   "cell_type": "code",
   "execution_count": 28,
   "metadata": {},
   "outputs": [
    {
     "data": {
      "text/plain": [
       "         1017\n",
       "clave     120\n",
       "Name: transacciones, dtype: int64"
      ]
     },
     "execution_count": 28,
     "metadata": {},
     "output_type": "execute_result"
    }
   ],
   "source": [
    "precios.transacciones.value_counts()"
   ]
  },
  {
   "cell_type": "code",
   "execution_count": 29,
   "metadata": {},
   "outputs": [
    {
     "data": {
      "text/plain": [
       "mal     1031\n",
       "bien     106\n",
       "Name: edo, dtype: int64"
      ]
     },
     "execution_count": 29,
     "metadata": {},
     "output_type": "execute_result"
    }
   ],
   "source": [
    "precios.edo.value_counts()"
   ]
  },
  {
   "cell_type": "code",
   "execution_count": 35,
   "metadata": {},
   "outputs": [],
   "source": [
    "interes = (precios['transacciones'] == 'clave') & (precios['edo'] == 'bien')"
   ]
  },
  {
   "cell_type": "code",
   "execution_count": 37,
   "metadata": {},
   "outputs": [
    {
     "data": {
      "text/plain": [
       "24"
      ]
     },
     "execution_count": 37,
     "metadata": {},
     "output_type": "execute_result"
    }
   ],
   "source": [
    "len(precios[interes])"
   ]
  }
 ],
 "metadata": {
  "kernelspec": {
   "display_name": "Python 3",
   "language": "python",
   "name": "python3"
  },
  "language_info": {
   "codemirror_mode": {
    "name": "ipython",
    "version": 3
   },
   "file_extension": ".py",
   "mimetype": "text/x-python",
   "name": "python",
   "nbconvert_exporter": "python",
   "pygments_lexer": "ipython3",
   "version": "3.8.3"
  }
 },
 "nbformat": 4,
 "nbformat_minor": 4
}
